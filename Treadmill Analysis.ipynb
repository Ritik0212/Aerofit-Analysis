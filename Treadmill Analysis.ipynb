{
 "cells": [
  {
   "cell_type": "code",
   "execution_count": 37,
   "id": "1e9da2a5",
   "metadata": {},
   "outputs": [],
   "source": [
    "import pandas as pd"
   ]
  },
  {
   "cell_type": "code",
   "execution_count": 38,
   "id": "8fcc310e",
   "metadata": {},
   "outputs": [],
   "source": [
    "# manually given price of treadmills in dollars\n",
    "price_treadmill = {'KP281': 1500, 'KP481': 1750, 'KP781': 2500}"
   ]
  },
  {
   "cell_type": "code",
   "execution_count": 39,
   "id": "a130e148",
   "metadata": {},
   "outputs": [
    {
     "data": {
      "text/html": [
       "<div>\n",
       "<style scoped>\n",
       "    .dataframe tbody tr th:only-of-type {\n",
       "        vertical-align: middle;\n",
       "    }\n",
       "\n",
       "    .dataframe tbody tr th {\n",
       "        vertical-align: top;\n",
       "    }\n",
       "\n",
       "    .dataframe thead th {\n",
       "        text-align: right;\n",
       "    }\n",
       "</style>\n",
       "<table border=\"1\" class=\"dataframe\">\n",
       "  <thead>\n",
       "    <tr style=\"text-align: right;\">\n",
       "      <th></th>\n",
       "      <th>Product</th>\n",
       "      <th>Age</th>\n",
       "      <th>Gender</th>\n",
       "      <th>Education</th>\n",
       "      <th>MaritalStatus</th>\n",
       "      <th>Usage</th>\n",
       "      <th>Fitness</th>\n",
       "      <th>Income</th>\n",
       "      <th>Miles</th>\n",
       "    </tr>\n",
       "  </thead>\n",
       "  <tbody>\n",
       "    <tr>\n",
       "      <th>0</th>\n",
       "      <td>KP281</td>\n",
       "      <td>18</td>\n",
       "      <td>Male</td>\n",
       "      <td>14</td>\n",
       "      <td>Single</td>\n",
       "      <td>3</td>\n",
       "      <td>4</td>\n",
       "      <td>29562</td>\n",
       "      <td>112</td>\n",
       "    </tr>\n",
       "    <tr>\n",
       "      <th>1</th>\n",
       "      <td>KP281</td>\n",
       "      <td>19</td>\n",
       "      <td>Male</td>\n",
       "      <td>15</td>\n",
       "      <td>Single</td>\n",
       "      <td>2</td>\n",
       "      <td>3</td>\n",
       "      <td>31836</td>\n",
       "      <td>75</td>\n",
       "    </tr>\n",
       "    <tr>\n",
       "      <th>2</th>\n",
       "      <td>KP281</td>\n",
       "      <td>19</td>\n",
       "      <td>Female</td>\n",
       "      <td>14</td>\n",
       "      <td>Partnered</td>\n",
       "      <td>4</td>\n",
       "      <td>3</td>\n",
       "      <td>30699</td>\n",
       "      <td>66</td>\n",
       "    </tr>\n",
       "    <tr>\n",
       "      <th>3</th>\n",
       "      <td>KP281</td>\n",
       "      <td>19</td>\n",
       "      <td>Male</td>\n",
       "      <td>12</td>\n",
       "      <td>Single</td>\n",
       "      <td>3</td>\n",
       "      <td>3</td>\n",
       "      <td>32973</td>\n",
       "      <td>85</td>\n",
       "    </tr>\n",
       "    <tr>\n",
       "      <th>4</th>\n",
       "      <td>KP281</td>\n",
       "      <td>20</td>\n",
       "      <td>Male</td>\n",
       "      <td>13</td>\n",
       "      <td>Partnered</td>\n",
       "      <td>4</td>\n",
       "      <td>2</td>\n",
       "      <td>35247</td>\n",
       "      <td>47</td>\n",
       "    </tr>\n",
       "  </tbody>\n",
       "</table>\n",
       "</div>"
      ],
      "text/plain": [
       "  Product  Age  Gender  Education MaritalStatus  Usage  Fitness  Income  Miles\n",
       "0   KP281   18    Male         14        Single      3        4   29562    112\n",
       "1   KP281   19    Male         15        Single      2        3   31836     75\n",
       "2   KP281   19  Female         14     Partnered      4        3   30699     66\n",
       "3   KP281   19    Male         12        Single      3        3   32973     85\n",
       "4   KP281   20    Male         13     Partnered      4        2   35247     47"
      ]
     },
     "execution_count": 39,
     "metadata": {},
     "output_type": "execute_result"
    }
   ],
   "source": [
    "#https://d2beiqkhq929f0.cloudfront.net/public_assets/assets/000/001/125/original/aerofit_treadmill.csv?1639992749\n",
    "df = pd.read_csv('aerofit_treadmill.csv')\n",
    "df.head()"
   ]
  },
  {
   "cell_type": "code",
   "execution_count": 40,
   "id": "add48e7d",
   "metadata": {},
   "outputs": [],
   "source": [
    "#df['Price'] = df.apply(lambda x: price_treadmill[x.Product], axis=1)"
   ]
  },
  {
   "cell_type": "code",
   "execution_count": 41,
   "id": "b66eefe0",
   "metadata": {},
   "outputs": [
    {
     "data": {
      "text/html": [
       "<div>\n",
       "<style scoped>\n",
       "    .dataframe tbody tr th:only-of-type {\n",
       "        vertical-align: middle;\n",
       "    }\n",
       "\n",
       "    .dataframe tbody tr th {\n",
       "        vertical-align: top;\n",
       "    }\n",
       "\n",
       "    .dataframe thead th {\n",
       "        text-align: right;\n",
       "    }\n",
       "</style>\n",
       "<table border=\"1\" class=\"dataframe\">\n",
       "  <thead>\n",
       "    <tr style=\"text-align: right;\">\n",
       "      <th></th>\n",
       "      <th>Product</th>\n",
       "      <th>Age</th>\n",
       "      <th>Gender</th>\n",
       "      <th>Education</th>\n",
       "      <th>MaritalStatus</th>\n",
       "      <th>Usage</th>\n",
       "      <th>Fitness</th>\n",
       "      <th>Income</th>\n",
       "      <th>Miles</th>\n",
       "    </tr>\n",
       "  </thead>\n",
       "  <tbody>\n",
       "    <tr>\n",
       "      <th>0</th>\n",
       "      <td>KP281</td>\n",
       "      <td>18</td>\n",
       "      <td>Male</td>\n",
       "      <td>14</td>\n",
       "      <td>Single</td>\n",
       "      <td>3</td>\n",
       "      <td>4</td>\n",
       "      <td>29562</td>\n",
       "      <td>112</td>\n",
       "    </tr>\n",
       "    <tr>\n",
       "      <th>1</th>\n",
       "      <td>KP281</td>\n",
       "      <td>19</td>\n",
       "      <td>Male</td>\n",
       "      <td>15</td>\n",
       "      <td>Single</td>\n",
       "      <td>2</td>\n",
       "      <td>3</td>\n",
       "      <td>31836</td>\n",
       "      <td>75</td>\n",
       "    </tr>\n",
       "    <tr>\n",
       "      <th>2</th>\n",
       "      <td>KP281</td>\n",
       "      <td>19</td>\n",
       "      <td>Female</td>\n",
       "      <td>14</td>\n",
       "      <td>Partnered</td>\n",
       "      <td>4</td>\n",
       "      <td>3</td>\n",
       "      <td>30699</td>\n",
       "      <td>66</td>\n",
       "    </tr>\n",
       "    <tr>\n",
       "      <th>3</th>\n",
       "      <td>KP281</td>\n",
       "      <td>19</td>\n",
       "      <td>Male</td>\n",
       "      <td>12</td>\n",
       "      <td>Single</td>\n",
       "      <td>3</td>\n",
       "      <td>3</td>\n",
       "      <td>32973</td>\n",
       "      <td>85</td>\n",
       "    </tr>\n",
       "    <tr>\n",
       "      <th>4</th>\n",
       "      <td>KP281</td>\n",
       "      <td>20</td>\n",
       "      <td>Male</td>\n",
       "      <td>13</td>\n",
       "      <td>Partnered</td>\n",
       "      <td>4</td>\n",
       "      <td>2</td>\n",
       "      <td>35247</td>\n",
       "      <td>47</td>\n",
       "    </tr>\n",
       "  </tbody>\n",
       "</table>\n",
       "</div>"
      ],
      "text/plain": [
       "  Product  Age  Gender  Education MaritalStatus  Usage  Fitness  Income  Miles\n",
       "0   KP281   18    Male         14        Single      3        4   29562    112\n",
       "1   KP281   19    Male         15        Single      2        3   31836     75\n",
       "2   KP281   19  Female         14     Partnered      4        3   30699     66\n",
       "3   KP281   19    Male         12        Single      3        3   32973     85\n",
       "4   KP281   20    Male         13     Partnered      4        2   35247     47"
      ]
     },
     "execution_count": 41,
     "metadata": {},
     "output_type": "execute_result"
    }
   ],
   "source": [
    "df.head()"
   ]
  },
  {
   "cell_type": "markdown",
   "id": "c181bacf",
   "metadata": {},
   "source": [
    "### Statistical Summary"
   ]
  },
  {
   "cell_type": "code",
   "execution_count": 42,
   "id": "01376504",
   "metadata": {},
   "outputs": [
    {
     "data": {
      "text/html": [
       "<div>\n",
       "<style scoped>\n",
       "    .dataframe tbody tr th:only-of-type {\n",
       "        vertical-align: middle;\n",
       "    }\n",
       "\n",
       "    .dataframe tbody tr th {\n",
       "        vertical-align: top;\n",
       "    }\n",
       "\n",
       "    .dataframe thead th {\n",
       "        text-align: right;\n",
       "    }\n",
       "</style>\n",
       "<table border=\"1\" class=\"dataframe\">\n",
       "  <thead>\n",
       "    <tr style=\"text-align: right;\">\n",
       "      <th></th>\n",
       "      <th>Product</th>\n",
       "      <th>Age</th>\n",
       "      <th>Gender</th>\n",
       "      <th>Education</th>\n",
       "      <th>MaritalStatus</th>\n",
       "      <th>Usage</th>\n",
       "      <th>Fitness</th>\n",
       "      <th>Income</th>\n",
       "      <th>Miles</th>\n",
       "    </tr>\n",
       "  </thead>\n",
       "  <tbody>\n",
       "    <tr>\n",
       "      <th>count</th>\n",
       "      <td>180</td>\n",
       "      <td>180.000000</td>\n",
       "      <td>180</td>\n",
       "      <td>180.000000</td>\n",
       "      <td>180</td>\n",
       "      <td>180.000000</td>\n",
       "      <td>180.000000</td>\n",
       "      <td>180.000000</td>\n",
       "      <td>180.000000</td>\n",
       "    </tr>\n",
       "    <tr>\n",
       "      <th>unique</th>\n",
       "      <td>3</td>\n",
       "      <td>NaN</td>\n",
       "      <td>2</td>\n",
       "      <td>NaN</td>\n",
       "      <td>2</td>\n",
       "      <td>NaN</td>\n",
       "      <td>NaN</td>\n",
       "      <td>NaN</td>\n",
       "      <td>NaN</td>\n",
       "    </tr>\n",
       "    <tr>\n",
       "      <th>top</th>\n",
       "      <td>KP281</td>\n",
       "      <td>NaN</td>\n",
       "      <td>Male</td>\n",
       "      <td>NaN</td>\n",
       "      <td>Partnered</td>\n",
       "      <td>NaN</td>\n",
       "      <td>NaN</td>\n",
       "      <td>NaN</td>\n",
       "      <td>NaN</td>\n",
       "    </tr>\n",
       "    <tr>\n",
       "      <th>freq</th>\n",
       "      <td>80</td>\n",
       "      <td>NaN</td>\n",
       "      <td>104</td>\n",
       "      <td>NaN</td>\n",
       "      <td>107</td>\n",
       "      <td>NaN</td>\n",
       "      <td>NaN</td>\n",
       "      <td>NaN</td>\n",
       "      <td>NaN</td>\n",
       "    </tr>\n",
       "    <tr>\n",
       "      <th>mean</th>\n",
       "      <td>NaN</td>\n",
       "      <td>28.788889</td>\n",
       "      <td>NaN</td>\n",
       "      <td>15.572222</td>\n",
       "      <td>NaN</td>\n",
       "      <td>3.455556</td>\n",
       "      <td>3.311111</td>\n",
       "      <td>53719.577778</td>\n",
       "      <td>103.194444</td>\n",
       "    </tr>\n",
       "    <tr>\n",
       "      <th>std</th>\n",
       "      <td>NaN</td>\n",
       "      <td>6.943498</td>\n",
       "      <td>NaN</td>\n",
       "      <td>1.617055</td>\n",
       "      <td>NaN</td>\n",
       "      <td>1.084797</td>\n",
       "      <td>0.958869</td>\n",
       "      <td>16506.684226</td>\n",
       "      <td>51.863605</td>\n",
       "    </tr>\n",
       "    <tr>\n",
       "      <th>min</th>\n",
       "      <td>NaN</td>\n",
       "      <td>18.000000</td>\n",
       "      <td>NaN</td>\n",
       "      <td>12.000000</td>\n",
       "      <td>NaN</td>\n",
       "      <td>2.000000</td>\n",
       "      <td>1.000000</td>\n",
       "      <td>29562.000000</td>\n",
       "      <td>21.000000</td>\n",
       "    </tr>\n",
       "    <tr>\n",
       "      <th>25%</th>\n",
       "      <td>NaN</td>\n",
       "      <td>24.000000</td>\n",
       "      <td>NaN</td>\n",
       "      <td>14.000000</td>\n",
       "      <td>NaN</td>\n",
       "      <td>3.000000</td>\n",
       "      <td>3.000000</td>\n",
       "      <td>44058.750000</td>\n",
       "      <td>66.000000</td>\n",
       "    </tr>\n",
       "    <tr>\n",
       "      <th>50%</th>\n",
       "      <td>NaN</td>\n",
       "      <td>26.000000</td>\n",
       "      <td>NaN</td>\n",
       "      <td>16.000000</td>\n",
       "      <td>NaN</td>\n",
       "      <td>3.000000</td>\n",
       "      <td>3.000000</td>\n",
       "      <td>50596.500000</td>\n",
       "      <td>94.000000</td>\n",
       "    </tr>\n",
       "    <tr>\n",
       "      <th>75%</th>\n",
       "      <td>NaN</td>\n",
       "      <td>33.000000</td>\n",
       "      <td>NaN</td>\n",
       "      <td>16.000000</td>\n",
       "      <td>NaN</td>\n",
       "      <td>4.000000</td>\n",
       "      <td>4.000000</td>\n",
       "      <td>58668.000000</td>\n",
       "      <td>114.750000</td>\n",
       "    </tr>\n",
       "    <tr>\n",
       "      <th>max</th>\n",
       "      <td>NaN</td>\n",
       "      <td>50.000000</td>\n",
       "      <td>NaN</td>\n",
       "      <td>21.000000</td>\n",
       "      <td>NaN</td>\n",
       "      <td>7.000000</td>\n",
       "      <td>5.000000</td>\n",
       "      <td>104581.000000</td>\n",
       "      <td>360.000000</td>\n",
       "    </tr>\n",
       "  </tbody>\n",
       "</table>\n",
       "</div>"
      ],
      "text/plain": [
       "       Product         Age Gender   Education MaritalStatus       Usage  \\\n",
       "count      180  180.000000    180  180.000000           180  180.000000   \n",
       "unique       3         NaN      2         NaN             2         NaN   \n",
       "top      KP281         NaN   Male         NaN     Partnered         NaN   \n",
       "freq        80         NaN    104         NaN           107         NaN   \n",
       "mean       NaN   28.788889    NaN   15.572222           NaN    3.455556   \n",
       "std        NaN    6.943498    NaN    1.617055           NaN    1.084797   \n",
       "min        NaN   18.000000    NaN   12.000000           NaN    2.000000   \n",
       "25%        NaN   24.000000    NaN   14.000000           NaN    3.000000   \n",
       "50%        NaN   26.000000    NaN   16.000000           NaN    3.000000   \n",
       "75%        NaN   33.000000    NaN   16.000000           NaN    4.000000   \n",
       "max        NaN   50.000000    NaN   21.000000           NaN    7.000000   \n",
       "\n",
       "           Fitness         Income       Miles  \n",
       "count   180.000000     180.000000  180.000000  \n",
       "unique         NaN            NaN         NaN  \n",
       "top            NaN            NaN         NaN  \n",
       "freq           NaN            NaN         NaN  \n",
       "mean      3.311111   53719.577778  103.194444  \n",
       "std       0.958869   16506.684226   51.863605  \n",
       "min       1.000000   29562.000000   21.000000  \n",
       "25%       3.000000   44058.750000   66.000000  \n",
       "50%       3.000000   50596.500000   94.000000  \n",
       "75%       4.000000   58668.000000  114.750000  \n",
       "max       5.000000  104581.000000  360.000000  "
      ]
     },
     "execution_count": 42,
     "metadata": {},
     "output_type": "execute_result"
    }
   ],
   "source": [
    "df.describe(include='all')"
   ]
  },
  {
   "cell_type": "code",
   "execution_count": 43,
   "id": "bc574c14",
   "metadata": {},
   "outputs": [
    {
     "name": "stdout",
     "output_type": "stream",
     "text": [
      "<class 'pandas.core.frame.DataFrame'>\n",
      "RangeIndex: 180 entries, 0 to 179\n",
      "Data columns (total 9 columns):\n",
      " #   Column         Non-Null Count  Dtype \n",
      "---  ------         --------------  ----- \n",
      " 0   Product        180 non-null    object\n",
      " 1   Age            180 non-null    int64 \n",
      " 2   Gender         180 non-null    object\n",
      " 3   Education      180 non-null    int64 \n",
      " 4   MaritalStatus  180 non-null    object\n",
      " 5   Usage          180 non-null    int64 \n",
      " 6   Fitness        180 non-null    int64 \n",
      " 7   Income         180 non-null    int64 \n",
      " 8   Miles          180 non-null    int64 \n",
      "dtypes: int64(6), object(3)\n",
      "memory usage: 12.8+ KB\n"
     ]
    }
   ],
   "source": [
    "df.info()"
   ]
  },
  {
   "cell_type": "code",
   "execution_count": 44,
   "id": "34870868",
   "metadata": {},
   "outputs": [
    {
     "name": "stdout",
     "output_type": "stream",
     "text": [
      "['KP281' 'KP481' 'KP781']\n",
      "['Male' 'Female']\n",
      "['Single' 'Partnered']\n"
     ]
    }
   ],
   "source": [
    "print(df['Product'].unique())\n",
    "print(df['Gender'].unique())\n",
    "print(df['MaritalStatus'].unique())"
   ]
  },
  {
   "cell_type": "markdown",
   "id": "d0ec5d67",
   "metadata": {},
   "source": [
    "## Data shape and Attribute types"
   ]
  },
  {
   "cell_type": "markdown",
   "id": "8c74e7e0",
   "metadata": {},
   "source": [
    "- Here the analysis goes on to identify the target audience for 3 types of Treadmills\n",
    "- Total number of Records are 180 with attributes (Age, Gender, Education, Marital Status, Usage, Fitness, Income, Miles)\n",
    "- There is no missing value in whole dataset\n",
    "- Attribute types\n",
    "  - Age in years : integer, \n",
    "  - Education in years : integer,\n",
    "  - Usage in expected usage number of times per week : integer, \n",
    "  - fitness in self-rating of 1 to 5 : integer, \n",
    "  - income in annual income in dollars : integer, \n",
    "  - miles in expected avg miles per week by customer : integer\n",
    "  - price in dollars : integer\n",
    "- Gender, MaritalStatus are categorical variables: string"
   ]
  },
  {
   "cell_type": "markdown",
   "id": "da65af96",
   "metadata": {},
   "source": [
    "## Range of Attributes"
   ]
  },
  {
   "cell_type": "markdown",
   "id": "2fdfa445",
   "metadata": {},
   "source": [
    "- Gender, MaritalStatus, Price are categorical variables\n",
    "- Range of Customers Age is 18 - 50 years\n",
    "- Range of Customers Education is 12 - 21 years\n",
    "- Range of Usage of Treadmills is 2 - 7 times per week\n",
    "- Range of Customers Fitness rating is 1 - 5\n",
    "- Range of Customers Income is 29562 - 104581 $ per annum\n",
    "- Range of avg miles per week is 21 - 360"
   ]
  },
  {
   "cell_type": "markdown",
   "id": "842daaf9",
   "metadata": {},
   "source": [
    "### Categorical Conversion"
   ]
  },
  {
   "cell_type": "code",
   "execution_count": 45,
   "id": "429ae2c4",
   "metadata": {},
   "outputs": [
    {
     "name": "stdout",
     "output_type": "stream",
     "text": [
      "<class 'pandas.core.frame.DataFrame'>\n",
      "RangeIndex: 180 entries, 0 to 179\n",
      "Data columns (total 9 columns):\n",
      " #   Column         Non-Null Count  Dtype   \n",
      "---  ------         --------------  -----   \n",
      " 0   Product        180 non-null    category\n",
      " 1   Age            180 non-null    int64   \n",
      " 2   Gender         180 non-null    category\n",
      " 3   Education      180 non-null    int64   \n",
      " 4   MaritalStatus  180 non-null    category\n",
      " 5   Usage          180 non-null    int64   \n",
      " 6   Fitness        180 non-null    int64   \n",
      " 7   Income         180 non-null    int64   \n",
      " 8   Miles          180 non-null    int64   \n",
      "dtypes: category(3), int64(6)\n",
      "memory usage: 9.5 KB\n"
     ]
    }
   ],
   "source": [
    "df['Product'] = df['Product'].astype('category')\n",
    "df['Gender'] = df['Gender'].astype('category')\n",
    "df['MaritalStatus'] = df['MaritalStatus'].astype('category')\n",
    "df.info()"
   ]
  },
  {
   "cell_type": "markdown",
   "id": "d6a20b62",
   "metadata": {},
   "source": [
    "## Univariate analysis"
   ]
  },
  {
   "cell_type": "code",
   "execution_count": 46,
   "id": "dca9a1c8",
   "metadata": {},
   "outputs": [],
   "source": [
    "import matplotlib.pyplot as plt\n",
    "import seaborn as sns"
   ]
  },
  {
   "cell_type": "code",
   "execution_count": 47,
   "id": "00ad9aa0",
   "metadata": {},
   "outputs": [
    {
     "data": {
      "image/png": "[encoded data removed]",
      "text/plain": [
       "<Figure size 864x720 with 6 Axes>"
      ]
     },
     "metadata": {
      "needs_background": "light"
     },
     "output_type": "display_data"
    }
   ],
   "source": [
    "f, ax = plt.subplots(nrows=3, ncols=2, figsize=(12, 10))\n",
    "\n",
    "sns.histplot(data=df, x=\"Age\", kde=True, ax=ax[0,0])\n",
    "sns.histplot(data=df, x=\"Education\", kde=True, ax=ax[0,1])\n",
    "sns.histplot(data=df, x=\"Usage\", kde=True, ax=ax[1,0])\n",
    "sns.histplot(data=df, x=\"Fitness\", kde=True, ax=ax[1,1])\n",
    "sns.histplot(data=df, x=\"Income\", kde=True, ax=ax[2,0])\n",
    "sns.histplot(data=df, x=\"Miles\", kde=True, ax=ax[2,1])\n",
    "plt.show()"
   ]
  },
  {
   "cell_type": "code",
   "execution_count": 48,
   "id": "4555c785",
   "metadata": {},
   "outputs": [
    {
     "data": {
      "image/png": "[encoded data removed]",
      "text/plain": [
       "<Figure size 864x720 with 6 Axes>"
      ]
     },
     "metadata": {
      "needs_background": "light"
     },
     "output_type": "display_data"
    }
   ],
   "source": [
    "f, ax = plt.subplots(nrows=3, ncols=2, figsize=(12, 10))\n",
    "\n",
    "sns.boxplot(data=df, x=\"Age\", orient='h', ax=ax[0,0])\n",
    "sns.boxplot(data=df, x=\"Education\", orient='h', ax=ax[0,1])\n",
    "sns.boxplot(data=df, x=\"Usage\", orient='h', ax=ax[1,0])\n",
    "sns.boxplot(data=df, x=\"Fitness\", orient='h', ax=ax[1,1])\n",
    "sns.boxplot(data=df, x=\"Income\", orient='h', ax=ax[2,0])\n",
    "sns.boxplot(data=df, x=\"Miles\", orient='h', ax=ax[2,1])\n",
    "plt.show()"
   ]
  },
  {
   "cell_type": "markdown",
   "id": "b1d7457d",
   "metadata": {},
   "source": [
    "- Observations \n",
    "    - Maily Outliers are there in Income and Miles\n",
    "    - Agewise data is mainly distributed between 21 and 35 both inclusive\n",
    "    - Approx 78% customers are having education of 14 and 16 years\n",
    "    - More than 80% customers expect to use it 2 to 4 times a week."
   ]
  },
  {
   "cell_type": "markdown",
   "id": "ccd622fd",
   "metadata": {},
   "source": [
    "### Value Counts on Categorical Attributes"
   ]
  },
  {
   "cell_type": "code",
   "execution_count": 49,
   "id": "5c60be30",
   "metadata": {},
   "outputs": [
    {
     "name": "stdout",
     "output_type": "stream",
     "text": [
      "KP281    80\n",
      "KP481    60\n",
      "KP781    40\n",
      "Name: Product, dtype: int64\n",
      "Male      104\n",
      "Female     76\n",
      "Name: Gender, dtype: int64\n",
      "Partnered    107\n",
      "Single        73\n",
      "Name: MaritalStatus, dtype: int64\n",
      "3    97\n",
      "5    31\n",
      "2    26\n",
      "4    24\n",
      "1     2\n",
      "Name: Fitness, dtype: int64\n"
     ]
    }
   ],
   "source": [
    "#assuming fitness to be a categorical\n",
    "for i in ['Product', 'Gender', 'MaritalStatus', 'Fitness']:\n",
    "    print(df[i].value_counts())"
   ]
  },
  {
   "cell_type": "markdown",
   "id": "70710fd9",
   "metadata": {},
   "source": [
    "### Categorical attributes visual analysis"
   ]
  },
  {
   "cell_type": "code",
   "execution_count": 50,
   "id": "f90c1a1a",
   "metadata": {},
   "outputs": [
    {
     "data": {
      "image/png": "[encoded data removed]",
      "text/plain": [
       "<Figure size 864x432 with 4 Axes>"
      ]
     },
     "metadata": {
      "needs_background": "light"
     },
     "output_type": "display_data"
    }
   ],
   "source": [
    "f, ax = plt.subplots(nrows=1, ncols=4, figsize=(12, 6))\n",
    "sns.countplot(data=df, x='Product', ax=ax[0])\n",
    "sns.countplot(data=df, x='Gender', ax=ax[1])\n",
    "sns.countplot(data=df, x='MaritalStatus', ax=ax[2])\n",
    "sns.countplot(data=df, x='Fitness', ax=ax[3])\n",
    "\n",
    "\n",
    "plt.show()"
   ]
  },
  {
   "cell_type": "markdown",
   "id": "7e0e0771",
   "metadata": {},
   "source": [
    "- Observations\n",
    "    - KP281 is used by most people as this is cheaper from other twos, that might be the main reason\n",
    "    - Count of male customers is 104 while female count is 76\n",
    "    - 107 customers out of 180 who bought treadmills are having partner\n",
    "    - Most customers rate themselves as medium fitness (rated 3)"
   ]
  },
  {
   "cell_type": "code",
   "execution_count": 51,
   "id": "bf609718",
   "metadata": {},
   "outputs": [],
   "source": [
    "#df[['Product', 'Gender', 'MaritalStatus']].melt()"
   ]
  },
  {
   "cell_type": "markdown",
   "id": "f3f7c22e",
   "metadata": {},
   "source": [
    "## Bivariate Analysis"
   ]
  },
  {
   "cell_type": "markdown",
   "id": "050e0dcc",
   "metadata": {},
   "source": [
    "### Product vs Attributes"
   ]
  },
  {
   "cell_type": "code",
   "execution_count": 52,
   "id": "84007fb9",
   "metadata": {},
   "outputs": [
    {
     "name": "stdout",
     "output_type": "stream",
     "text": [
      "\u001b[1m----------------------Product vs Age----------------------\u001b[0m\n",
      "Product  KP281  KP481  KP781  All\n",
      "Age                              \n",
      "18           1      0      0    1\n",
      "19           3      1      0    4\n",
      "20           2      3      0    5\n",
      "21           4      3      0    7\n",
      "22           4      0      3    7\n",
      "23           8      7      3   18\n",
      "24           5      3      4   12\n",
      "25           7     11      7   25\n",
      "26           7      3      2   12\n",
      "27           3      1      3    7\n",
      "28           6      0      3    9\n",
      "29           3      1      2    6\n",
      "30           2      2      3    7\n",
      "31           2      3      1    6\n",
      "32           2      2      0    4\n",
      "33           2      5      1    8\n",
      "34           2      3      1    6\n",
      "35           3      4      1    8\n",
      "36           1      0      0    1\n",
      "37           1      1      0    2\n",
      "38           4      2      1    7\n",
      "39           1      0      0    1\n",
      "40           1      3      1    5\n",
      "41           1      0      0    1\n",
      "42           0      0      1    1\n",
      "43           1      0      0    1\n",
      "44           1      0      0    1\n",
      "45           0      1      1    2\n",
      "46           1      0      0    1\n",
      "47           1      0      1    2\n",
      "48           0      1      1    2\n",
      "50           1      0      0    1\n",
      "All         80     60     40  180\n",
      "\u001b[1m----------------------Product vs Gender----------------------\u001b[0m\n",
      "Product  KP281  KP481  KP781  All\n",
      "Gender                           \n",
      "Female      40     29      7   76\n",
      "Male        40     31     33  104\n",
      "All         80     60     40  180\n",
      "\u001b[1m----------------------Product vs Education----------------------\u001b[0m\n",
      "Product    KP281  KP481  KP781  All\n",
      "Education                          \n",
      "12             2      1      0    3\n",
      "13             3      2      0    5\n",
      "14            30     23      2   55\n",
      "15             4      1      0    5\n",
      "16            39     31     15   85\n",
      "18             2      2     19   23\n",
      "20             0      0      1    1\n",
      "21             0      0      3    3\n",
      "All           80     60     40  180\n",
      "\u001b[1m----------------------Product vs MaritalStatus----------------------\u001b[0m\n",
      "Product        KP281  KP481  KP781  All\n",
      "MaritalStatus                          \n",
      "Partnered         48     36     23  107\n",
      "Single            32     24     17   73\n",
      "All               80     60     40  180\n",
      "\u001b[1m----------------------Product vs Usage----------------------\u001b[0m\n",
      "Product  KP281  KP481  KP781  All\n",
      "Usage                            \n",
      "2           19     14      0   33\n",
      "3           37     31      1   69\n",
      "4           22     12     18   52\n",
      "5            2      3     12   17\n",
      "6            0      0      7    7\n",
      "7            0      0      2    2\n",
      "All         80     60     40  180\n",
      "\u001b[1m----------------------Product vs Fitness----------------------\u001b[0m\n",
      "Product  KP281  KP481  KP781  All\n",
      "Fitness                          \n",
      "1            1      1      0    2\n",
      "2           14     12      0   26\n",
      "3           54     39      4   97\n",
      "4            9      8      7   24\n",
      "5            2      0     29   31\n",
      "All         80     60     40  180\n"
     ]
    }
   ],
   "source": [
    "cols = ['Age', 'Gender', 'Education', 'MaritalStatus', 'Usage', 'Fitness']\n",
    "for i in cols:\n",
    "    print('\\033[1m'+'----------------------Product vs '+ i + '----------------------'+'\\033[0m')\n",
    "    print(pd.crosstab(df[i], df['Product'], margins=True))\n",
    "#     print('*********************************************************')"
   ]
  },
  {
   "cell_type": "code",
   "execution_count": 53,
   "id": "1e39c87a",
   "metadata": {},
   "outputs": [
    {
     "name": "stdout",
     "output_type": "stream",
     "text": [
      "\u001b[1m----------------------Product vs Age----------------------\u001b[0m\n",
      "Product     KP281     KP481     KP781       All\n",
      "Age                                            \n",
      "18       0.005556  0.000000  0.000000  0.005556\n",
      "19       0.016667  0.005556  0.000000  0.022222\n",
      "20       0.011111  0.016667  0.000000  0.027778\n",
      "21       0.022222  0.016667  0.000000  0.038889\n",
      "22       0.022222  0.000000  0.016667  0.038889\n",
      "23       0.044444  0.038889  0.016667  0.100000\n",
      "24       0.027778  0.016667  0.022222  0.066667\n",
      "25       0.038889  0.061111  0.038889  0.138889\n",
      "26       0.038889  0.016667  0.011111  0.066667\n",
      "27       0.016667  0.005556  0.016667  0.038889\n",
      "28       0.033333  0.000000  0.016667  0.050000\n",
      "29       0.016667  0.005556  0.011111  0.033333\n",
      "30       0.011111  0.011111  0.016667  0.038889\n",
      "31       0.011111  0.016667  0.005556  0.033333\n",
      "32       0.011111  0.011111  0.000000  0.022222\n",
      "33       0.011111  0.027778  0.005556  0.044444\n",
      "34       0.011111  0.016667  0.005556  0.033333\n",
      "35       0.016667  0.022222  0.005556  0.044444\n",
      "36       0.005556  0.000000  0.000000  0.005556\n",
      "37       0.005556  0.005556  0.000000  0.011111\n",
      "38       0.022222  0.011111  0.005556  0.038889\n",
      "39       0.005556  0.000000  0.000000  0.005556\n",
      "40       0.005556  0.016667  0.005556  0.027778\n",
      "41       0.005556  0.000000  0.000000  0.005556\n",
      "42       0.000000  0.000000  0.005556  0.005556\n",
      "43       0.005556  0.000000  0.000000  0.005556\n",
      "44       0.005556  0.000000  0.000000  0.005556\n",
      "45       0.000000  0.005556  0.005556  0.011111\n",
      "46       0.005556  0.000000  0.000000  0.005556\n",
      "47       0.005556  0.000000  0.005556  0.011111\n",
      "48       0.000000  0.005556  0.005556  0.011111\n",
      "50       0.005556  0.000000  0.000000  0.005556\n",
      "All      0.444444  0.333333  0.222222  1.000000\n",
      "\u001b[1m----------------------Product vs Gender----------------------\u001b[0m\n",
      "Product     KP281     KP481     KP781       All\n",
      "Gender                                         \n",
      "Female   0.222222  0.161111  0.038889  0.422222\n",
      "Male     0.222222  0.172222  0.183333  0.577778\n",
      "All      0.444444  0.333333  0.222222  1.000000\n",
      "\u001b[1m----------------------Product vs Education----------------------\u001b[0m\n",
      "Product       KP281     KP481     KP781       All\n",
      "Education                                        \n",
      "12         0.011111  0.005556  0.000000  0.016667\n",
      "13         0.016667  0.011111  0.000000  0.027778\n",
      "14         0.166667  0.127778  0.011111  0.305556\n",
      "15         0.022222  0.005556  0.000000  0.027778\n",
      "16         0.216667  0.172222  0.083333  0.472222\n",
      "18         0.011111  0.011111  0.105556  0.127778\n",
      "20         0.000000  0.000000  0.005556  0.005556\n",
      "21         0.000000  0.000000  0.016667  0.016667\n",
      "All        0.444444  0.333333  0.222222  1.000000\n",
      "\u001b[1m----------------------Product vs MaritalStatus----------------------\u001b[0m\n",
      "Product           KP281     KP481     KP781       All\n",
      "MaritalStatus                                        \n",
      "Partnered      0.266667  0.200000  0.127778  0.594444\n",
      "Single         0.177778  0.133333  0.094444  0.405556\n",
      "All            0.444444  0.333333  0.222222  1.000000\n",
      "\u001b[1m----------------------Product vs Usage----------------------\u001b[0m\n",
      "Product     KP281     KP481     KP781       All\n",
      "Usage                                          \n",
      "2        0.105556  0.077778  0.000000  0.183333\n",
      "3        0.205556  0.172222  0.005556  0.383333\n",
      "4        0.122222  0.066667  0.100000  0.288889\n",
      "5        0.011111  0.016667  0.066667  0.094444\n",
      "6        0.000000  0.000000  0.038889  0.038889\n",
      "7        0.000000  0.000000  0.011111  0.011111\n",
      "All      0.444444  0.333333  0.222222  1.000000\n",
      "\u001b[1m----------------------Product vs Fitness----------------------\u001b[0m\n",
      "Product     KP281     KP481     KP781       All\n",
      "Fitness                                        \n",
      "1        0.005556  0.005556  0.000000  0.011111\n",
      "2        0.077778  0.066667  0.000000  0.144444\n",
      "3        0.300000  0.216667  0.022222  0.538889\n",
      "4        0.050000  0.044444  0.038889  0.133333\n",
      "5        0.011111  0.000000  0.161111  0.172222\n",
      "All      0.444444  0.333333  0.222222  1.000000\n"
     ]
    }
   ],
   "source": [
    "cols = ['Age', 'Gender', 'Education', 'MaritalStatus', 'Usage', 'Fitness']\n",
    "for i in cols:\n",
    "    print('\\033[1m'+'----------------------Product vs '+ i + '----------------------'+'\\033[0m')\n",
    "    print(pd.crosstab(df[i], df['Product'], margins=True, normalize=True))\n",
    "#     print('*********************************************************')"
   ]
  },
  {
   "cell_type": "markdown",
   "id": "9a62ff60",
   "metadata": {},
   "source": [
    "### Bivariate Visual Analysis"
   ]
  },
  {
   "cell_type": "code",
   "execution_count": 54,
   "id": "da30a641",
   "metadata": {},
   "outputs": [
    {
     "data": {
      "image/png": "[encoded data removed]",
      "text/plain": [
       "<Figure size 1440x468 with 3 Axes>"
      ]
     },
     "metadata": {
      "needs_background": "light"
     },
     "output_type": "display_data"
    }
   ],
   "source": [
    "fig, axs = plt.subplots(nrows=1, ncols=3, figsize=(20, 6.5))\n",
    "sns.countplot(data=df, x='Product', hue='Gender', palette=\"Set3\", edgecolor=\"0.1\", ax=axs[0])\n",
    "sns.countplot(data=df, x='Product', hue='MaritalStatus', palette=\"Set3\", edgecolor=\"0.1\", ax=axs[1])\n",
    "sns.countplot(data=df, x='Product', hue='Fitness', palette=\"Set3\", edgecolor=\"0.1\", ax=axs[2])\n",
    "\n",
    "axs[0].set_title(\"Product vs Gender\", pad=10, fontsize=14)\n",
    "axs[1].set_title(\"Product vs MaritalStatus\", pad=10, fontsize=14)\n",
    "axs[2].set_title(\"Product vs Fitness\", pad=10, fontsize=14)\n",
    "plt.show()"
   ]
  },
  {
   "cell_type": "markdown",
   "id": "d3390296",
   "metadata": {},
   "source": [
    "- Observations\n",
    "    - KP281 is preferred by equally by male and female while as we move towards high priced treadmills this gap becomes much wider\n",
    "    - Treadmills are peferred by partnered customers more compared to single ones\n",
    "    - People with medium fitness prefers to buy low range trademills and those with high fitness prefers to buy KP781 (Expensive)"
   ]
  },
  {
   "cell_type": "markdown",
   "id": "1c643e2a",
   "metadata": {},
   "source": [
    "### Relationship between attributes"
   ]
  },
  {
   "cell_type": "code",
   "execution_count": 55,
   "id": "a444bca6",
   "metadata": {},
   "outputs": [
    {
     "data": {
      "text/html": [
       "<div>\n",
       "<style scoped>\n",
       "    .dataframe tbody tr th:only-of-type {\n",
       "        vertical-align: middle;\n",
       "    }\n",
       "\n",
       "    .dataframe tbody tr th {\n",
       "        vertical-align: top;\n",
       "    }\n",
       "\n",
       "    .dataframe thead th {\n",
       "        text-align: right;\n",
       "    }\n",
       "</style>\n",
       "<table border=\"1\" class=\"dataframe\">\n",
       "  <thead>\n",
       "    <tr style=\"text-align: right;\">\n",
       "      <th></th>\n",
       "      <th>Age</th>\n",
       "      <th>Education</th>\n",
       "      <th>Usage</th>\n",
       "      <th>Fitness</th>\n",
       "      <th>Income</th>\n",
       "      <th>Miles</th>\n",
       "    </tr>\n",
       "  </thead>\n",
       "  <tbody>\n",
       "    <tr>\n",
       "      <th>Age</th>\n",
       "      <td>1.000000</td>\n",
       "      <td>0.280496</td>\n",
       "      <td>0.015064</td>\n",
       "      <td>0.061105</td>\n",
       "      <td>0.513414</td>\n",
       "      <td>0.036618</td>\n",
       "    </tr>\n",
       "    <tr>\n",
       "      <th>Education</th>\n",
       "      <td>0.280496</td>\n",
       "      <td>1.000000</td>\n",
       "      <td>0.395155</td>\n",
       "      <td>0.410581</td>\n",
       "      <td>0.625827</td>\n",
       "      <td>0.307284</td>\n",
       "    </tr>\n",
       "    <tr>\n",
       "      <th>Usage</th>\n",
       "      <td>0.015064</td>\n",
       "      <td>0.395155</td>\n",
       "      <td>1.000000</td>\n",
       "      <td>0.668606</td>\n",
       "      <td>0.519537</td>\n",
       "      <td>0.759130</td>\n",
       "    </tr>\n",
       "    <tr>\n",
       "      <th>Fitness</th>\n",
       "      <td>0.061105</td>\n",
       "      <td>0.410581</td>\n",
       "      <td>0.668606</td>\n",
       "      <td>1.000000</td>\n",
       "      <td>0.535005</td>\n",
       "      <td>0.785702</td>\n",
       "    </tr>\n",
       "    <tr>\n",
       "      <th>Income</th>\n",
       "      <td>0.513414</td>\n",
       "      <td>0.625827</td>\n",
       "      <td>0.519537</td>\n",
       "      <td>0.535005</td>\n",
       "      <td>1.000000</td>\n",
       "      <td>0.543473</td>\n",
       "    </tr>\n",
       "    <tr>\n",
       "      <th>Miles</th>\n",
       "      <td>0.036618</td>\n",
       "      <td>0.307284</td>\n",
       "      <td>0.759130</td>\n",
       "      <td>0.785702</td>\n",
       "      <td>0.543473</td>\n",
       "      <td>1.000000</td>\n",
       "    </tr>\n",
       "  </tbody>\n",
       "</table>\n",
       "</div>"
      ],
      "text/plain": [
       "                Age  Education     Usage   Fitness    Income     Miles\n",
       "Age        1.000000   0.280496  0.015064  0.061105  0.513414  0.036618\n",
       "Education  0.280496   1.000000  0.395155  0.410581  0.625827  0.307284\n",
       "Usage      0.015064   0.395155  1.000000  0.668606  0.519537  0.759130\n",
       "Fitness    0.061105   0.410581  0.668606  1.000000  0.535005  0.785702\n",
       "Income     0.513414   0.625827  0.519537  0.535005  1.000000  0.543473\n",
       "Miles      0.036618   0.307284  0.759130  0.785702  0.543473  1.000000"
      ]
     },
     "execution_count": 55,
     "metadata": {},
     "output_type": "execute_result"
    }
   ],
   "source": [
    "df.corr()"
   ]
  },
  {
   "cell_type": "code",
   "execution_count": 56,
   "id": "fbe58fea",
   "metadata": {},
   "outputs": [
    {
     "data": {
      "image/png": "[encoded data removed]",
      "text/plain": [
       "<Figure size 432x288 with 2 Axes>"
      ]
     },
     "metadata": {
      "needs_background": "light"
     },
     "output_type": "display_data"
    }
   ],
   "source": [
    "sns.heatmap (data = df.corr() , annot = True)\n",
    "plt.show()"
   ]
  },
  {
   "cell_type": "markdown",
   "id": "b235db9c",
   "metadata": {},
   "source": [
    "- Observations\n",
    "    - It looks these (Usage and miles and Fitness), (Income and Education) are positively correlated which makes sense\n",
    "    - And (Usage, miles, Fitness) are negatively correlated with Age which also makes sense"
   ]
  },
  {
   "cell_type": "markdown",
   "id": "ff1741c9",
   "metadata": {},
   "source": [
    "## Marginal and Conditional Probabilities"
   ]
  },
  {
   "cell_type": "code",
   "execution_count": 84,
   "id": "2b995f24",
   "metadata": {},
   "outputs": [
    {
     "name": "stdout",
     "output_type": "stream",
     "text": [
      "KP281    0.444444\n",
      "KP481    0.333333\n",
      "KP781    0.222222\n",
      "Name: Product, dtype: float64\n",
      "Male      0.577778\n",
      "Female    0.422222\n",
      "Name: Gender, dtype: float64\n",
      "Partnered    0.594444\n",
      "Single       0.405556\n",
      "Name: MaritalStatus, dtype: float64\n"
     ]
    }
   ],
   "source": [
    "#Marginal\n",
    "print(df['Product'].value_counts(normalize=True))\n",
    "print(df['Gender'].value_counts(normalize=True))\n",
    "print(df['MaritalStatus'].value_counts(normalize=True))"
   ]
  },
  {
   "cell_type": "code",
   "execution_count": 96,
   "id": "71f42b4e",
   "metadata": {},
   "outputs": [
    {
     "name": "stdout",
     "output_type": "stream",
     "text": [
      "Probability of product being KP281 given that Gender is Male, is: 0.3846\n",
      "Probability of product being KP481 given that Gender is Male, is: 0.2981\n",
      "Probability of product being KP781 given that Gender is Male, is: 0.3173\n",
      "****************************************************************************\n",
      "Probability of product being KP281 given that Gender is Female, is: 0.5263\n",
      "Probability of product being KP481 given that Gender is Female, is: 0.3816\n",
      "Probability of product being KP781 given that Gender is Female, is: 0.0921\n",
      "****************************************************************************\n"
     ]
    }
   ],
   "source": [
    "#Conditional\n",
    "#Given Gender Probalility of the products\n",
    "for j in df['Gender'].unique():\n",
    "    for i in df['Product'].unique():\n",
    "        print('Probability of product being {} given that Gender is {}, is:'.format(i, j), end=' ')\n",
    "        print(round(len(df[(df['Product'] == i) & (df['Gender'] == j)])/len(df[df['Gender']== j]), 4))\n",
    "    print('****************************************************************************')"
   ]
  },
  {
   "cell_type": "code",
   "execution_count": 97,
   "id": "355bc6f0",
   "metadata": {},
   "outputs": [
    {
     "name": "stdout",
     "output_type": "stream",
     "text": [
      "Probability of product being KP281 given that MaritalStatus is Single, is: 0.4384\n",
      "Probability of product being KP481 given that MaritalStatus is Single, is: 0.3288\n",
      "Probability of product being KP781 given that MaritalStatus is Single, is: 0.2329\n",
      "*************************************************************************************\n",
      "Probability of product being KP281 given that MaritalStatus is Partnered, is: 0.4486\n",
      "Probability of product being KP481 given that MaritalStatus is Partnered, is: 0.3364\n",
      "Probability of product being KP781 given that MaritalStatus is Partnered, is: 0.215\n",
      "*************************************************************************************\n"
     ]
    }
   ],
   "source": [
    "#Conditional\n",
    "#Given MaritalStatus Probalility of the products\n",
    "for j in df['MaritalStatus'].unique():\n",
    "    for i in df['Product'].unique():\n",
    "        print('Probability of product being {} given that MaritalStatus is {}, is:'.format(i, j), end=' ')\n",
    "        print(round(len(df[(df['Product'] == i) & (df['MaritalStatus'] == j)])/len(df[df['MaritalStatus']== j]), 4))\n",
    "    print('*************************************************************************************')    "
   ]
  }
 ],
 "metadata": {
  "kernelspec": {
   "display_name": "Python 3 (ipykernel)",
   "language": "python",
   "name": "python3"
  },
  "language_info": {
   "codemirror_mode": {
    "name": "ipython",
    "version": 3
   },
   "file_extension": ".py",
   "mimetype": "text/x-python",
   "name": "python",
   "nbconvert_exporter": "python",
   "pygments_lexer": "ipython3",
   "version": "3.7.4"
  }
 },
 "nbformat": 4,
 "nbformat_minor": 5
}
